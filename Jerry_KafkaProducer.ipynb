{
 "cells": [
  {
   "cell_type": "code",
   "execution_count": null,
   "id": "c56d0318",
   "metadata": {},
   "outputs": [],
   "source": [
    "pip install kafka-python"
   ]
  },
  {
   "cell_type": "code",
   "execution_count": null,
   "id": "b388f431",
   "metadata": {},
   "outputs": [],
   "source": [
    "import pandas as pd\n",
    "from kafka import KafkaProducer\n",
    "from time import sleep\n",
    "from json import dumps\n",
    "import json\n",
    "import os\n"
   ]
  },
  {
   "cell_type": "code",
   "execution_count": null,
   "id": "df3b373f",
   "metadata": {},
   "outputs": [],
   "source": [
    "# Define Kafka broker (update IP or use localhost for testing)\n",
    "KAFKA_BROKER = \"localhost:9092\"  # Change this to your actual Kafka broker IP\n",
    "\n",
    "try:\n",
    "    producer = KafkaProducer(\n",
    "        bootstrap_servers=[KAFKA_BROKER],\n",
    "        value_serializer=lambda x: dumps(x).encode('utf-8')\n",
    "    )\n",
    "    print(\"Kafka Producer connected successfully!\")\n",
    "except Exception as e:\n",
    "    print(f\"Error connecting to Kafka: {e}\")\n"
   ]
  },
  {
   "cell_type": "code",
   "execution_count": null,
   "id": "124b4194",
   "metadata": {},
   "outputs": [],
   "source": [
    "# Sending a test message to Kafka topic 'demo_test'\n",
    "try:\n",
    "    producer.send('demo_test', value={'surname': 'paramar'})  # Fixed typo\n",
    "    print(\"Test message sent successfully!\")\n",
    "except Exception as e:\n",
    "    print(f\"Error sending message: {e}\")\n"
   ]
  },
  {
   "cell_type": "code",
   "execution_count": null,
   "id": "62f336f4",
   "metadata": {},
   "outputs": [],
   "source": [
    "# Ensure the CSV file exists before reading\n",
    "file_path = \"data/indexProcessed.csv\"\n",
    "\n",
    "if os.path.exists(file_path):\n",
    "    df = pd.read_csv(file_path)\n",
    "    print(\"CSV file loaded successfully!\")\n",
    "else:\n",
    "    print(f\"Error: File {file_path} not found!\")\n"
   ]
  },
  {
   "cell_type": "code",
   "execution_count": null,
   "id": "066f8917",
   "metadata": {},
   "outputs": [],
   "source": [
    "# Simulating stock market data streaming to Kafka\n",
    "if os.path.exists(file_path):\n",
    "    for index, row in df.iterrows():\n",
    "        message = row.to_dict()  # Convert each row to a dictionary\n",
    "        try:\n",
    "            producer.send('demo_test', value=message)\n",
    "            print(f\"Sent message: {message}\")\n",
    "            sleep(1)  # Simulate real-time data streaming\n",
    "        except Exception as e:\n",
    "            print(f\"Error sending message: {e}\")\n"
   ]
  }
 ],
 "metadata": {},
 "nbformat": 4,
 "nbformat_minor": 5
}
