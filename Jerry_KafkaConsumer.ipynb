{
 "cells": [
  {
   "cell_type": "code",
   "execution_count": null,
   "id": "9540e9ff",
   "metadata": {},
   "outputs": [],
   "source": [
    "from kafka import KafkaConsumer\n",
    "from time import sleep\n",
    "from json import loads, dumps\n",
    "import json\n",
    "import logging\n",
    "from s3fs import S3FileSystem\n"
   ]
  },
  {
   "cell_type": "code",
   "execution_count": null,
   "id": "fb1a006e",
   "metadata": {},
   "outputs": [],
   "source": [
    "# Define Kafka broker (update IP or use localhost for testing)\n",
    "KAFKA_BROKER = \"localhost:9092\"  # Change this to your actual Kafka broker\n",
    "\n",
    "try:\n",
    "    consumer = KafkaConsumer(\n",
    "        'demo_test',\n",
    "        bootstrap_servers=[KAFKA_BROKER],\n",
    "        value_deserializer=lambda x: loads(x.decode('utf-8'))\n",
    "    )\n",
    "    print(\"Kafka Consumer connected successfully!\")\n",
    "except Exception as e:\n",
    "    print(f\"Error connecting to Kafka: {e}\")\n"
   ]
  },
  {
   "cell_type": "code",
   "execution_count": null,
   "id": "446c80ac",
   "metadata": {},
   "outputs": [],
   "source": [
    "# Configure logging\n",
    "logging.basicConfig(level=logging.INFO)\n",
    "\n",
    "# Log received messages from Kafka topic\n",
    "for message in consumer:\n",
    "    logging.info(f\"Received: {message.value}\")\n"
   ]
  },
  {
   "cell_type": "code",
   "execution_count": null,
   "id": "e8406a25",
   "metadata": {},
   "outputs": [],
   "source": [
    "# Initialize S3 File System\n",
    "s3 = S3FileSystem()\n",
    "\n",
    "# Define S3 bucket\n",
    "BUCKET_NAME = \"kafka-stock-market-tutorial-youtube-darshil\"\n",
    "\n",
    "# Check if S3 bucket exists\n",
    "if not s3.exists(f\"s3://{BUCKET_NAME}/\"):\n",
    "    print(f\"Error: S3 bucket '{BUCKET_NAME}' does not exist.\")\n",
    "else:\n",
    "    print(f\"Connected to S3 bucket '{BUCKET_NAME}'.\")\n"
   ]
  },
  {
   "cell_type": "code",
   "execution_count": null,
   "id": "e6a4b1b7",
   "metadata": {},
   "outputs": [],
   "source": [
    "# Buffer messages before writing to S3 to avoid too many small files\n",
    "buffer = []\n",
    "batch_size = 10  # Adjust batch size based on expected data frequency\n",
    "\n",
    "for count, message in enumerate(consumer):\n",
    "    buffer.append(message.value)\n",
    "\n",
    "    if len(buffer) >= batch_size:\n",
    "        file_name = f\"stock_market_batch_{count}.json\"\n",
    "        s3_path = f\"s3://{BUCKET_NAME}/{file_name}\"\n",
    "\n",
    "        try:\n",
    "            with s3.open(s3_path, 'w') as file:\n",
    "                json.dump(buffer, file)\n",
    "            logging.info(f\"Saved batch to {s3_path}\")\n",
    "        except Exception as e:\n",
    "            logging.error(f\"Error writing to S3: {e}\")\n",
    "\n",
    "        buffer = []  # Reset buffer after writing\n"
   ]
  }
 ],
 "metadata": {},
 "nbformat": 4,
 "nbformat_minor": 5
}
